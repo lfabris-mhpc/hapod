{
 "cells": [
  {
   "cell_type": "code",
   "execution_count": 1,
   "metadata": {},
   "outputs": [],
   "source": [
    "import numpy as np\n",
    "import matplotlib.pyplot as plt\n",
    "\n",
    "import hapod as hp"
   ]
  },
  {
   "cell_type": "code",
   "execution_count": 2,
   "metadata": {},
   "outputs": [],
   "source": [
    "from tests.test_base import get_test_matrix_half_rank\n",
    "\n",
    "X, U_true, s_true = get_test_matrix_half_rank(return_Us=True)\n",
    "mask = ~np.isclose(s_true, 0)"
   ]
  },
  {
   "cell_type": "code",
   "execution_count": null,
   "metadata": {},
   "outputs": [],
   "source": [
    "plt.semilogy(s_true)\n",
    "\n",
    "plt.show()\n",
    "plt.close()"
   ]
  },
  {
   "cell_type": "code",
   "execution_count": null,
   "metadata": {},
   "outputs": [],
   "source": [
    "plt.imshow(X)\n",
    "\n",
    "plt.show()\n",
    "plt.close()"
   ]
  },
  {
   "cell_type": "code",
   "execution_count": 5,
   "metadata": {},
   "outputs": [],
   "source": [
    "#perform hapod keeping the intermediate results in memory\n",
    "U_hapod, s_hapod = hp.hapod(np.array_split(X, 4, axis=1),\n",
    "                            chunk_rank_max=len(s_true)//2,\n",
    "                            serializer=hp.InMemorySerializer(),\n",
    "                            )"
   ]
  },
  {
   "cell_type": "code",
   "execution_count": 6,
   "metadata": {},
   "outputs": [],
   "source": [
    "assert np.allclose(s_hapod[mask], s_true[mask])"
   ]
  },
  {
   "cell_type": "code",
   "execution_count": 7,
   "metadata": {},
   "outputs": [],
   "source": [
    "ortho = hp.singular_vectors_orthogonality(U_hapod[:, mask], U_true[:, mask])\n",
    "\n",
    "assert np.allclose(ortho, 1)"
   ]
  }
 ],
 "metadata": {
  "kernelspec": {
   "display_name": "fridge",
   "language": "python",
   "name": "python3"
  },
  "language_info": {
   "codemirror_mode": {
    "name": "ipython",
    "version": 3
   },
   "file_extension": ".py",
   "mimetype": "text/x-python",
   "name": "python",
   "nbconvert_exporter": "python",
   "pygments_lexer": "ipython3",
   "version": "3.12.7"
  }
 },
 "nbformat": 4,
 "nbformat_minor": 2
}
