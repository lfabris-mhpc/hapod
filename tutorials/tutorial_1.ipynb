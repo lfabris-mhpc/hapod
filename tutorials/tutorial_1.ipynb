{
 "cells": [
  {
   "cell_type": "code",
   "execution_count": 1,
   "metadata": {},
   "outputs": [],
   "source": [
    "import os\n",
    "import glob\n",
    "import time\n",
    "import shutil\n",
    "import gc\n",
    "\n",
    "import numpy as np\n",
    "import matplotlib.pyplot as plt\n",
    "\n",
    "import hapod as hp\n"
   ]
  },
  {
   "cell_type": "code",
   "execution_count": 2,
   "metadata": {},
   "outputs": [
    {
     "name": "stdout",
     "output_type": "stream",
     "text": [
      "total available memory is 15.56 GB\n",
      "but 1.00 GB will be made unavailable\n",
      "the largest matrix for SVD is (3600000, 124) using <class 'numpy.float64'>\n",
      "the hapod can use chunks of 62 columns\n"
     ]
    }
   ],
   "source": [
    "memory_avail_total = hp.get_memory_size()\n",
    "memory_forbidden = 2**30\n",
    "print(f\"total available memory is {memory_avail_total / 2**30:.2f} GB\")\n",
    "print(f\"but {memory_forbidden / 2**30:.2f} GB will be made unavailable\")\n",
    "\n",
    "serializer = hp.NumpySerializer()\n",
    "\n",
    "dtype = np.float64\n",
    "n_rows = 3600000\n",
    "refresh_snapshots = False\n",
    "refresh_chunks = refresh_snapshots or False\n",
    "refresh_hapod = refresh_chunks or True\n",
    "refresh_rand = refresh_chunks or True\n",
    "\n",
    "n_svd_max_cols = hp.get_max_svd_columns(n_rows, \n",
    "                                        memory_limit=memory_avail_total - memory_forbidden,\n",
    "                                        dtype=dtype)\n",
    "print(f\"the largest matrix for SVD is {n_rows, n_svd_max_cols} using {dtype}\")\n",
    "\n",
    "n_chunk_max_cols = n_svd_max_cols // 2\n",
    "print(f\"the hapod can use chunks of {n_chunk_max_cols} columns\")\n"
   ]
  },
  {
   "cell_type": "code",
   "execution_count": 3,
   "metadata": {},
   "outputs": [
    {
     "name": "stdout",
     "output_type": "stream",
     "text": [
      "a snapshots matrix of size (3600000, 992) would use 26.61 GB of memory\n",
      "    SVD would use 116.01 GB of memory\n",
      "for a balanced, full, merge tree, will need 16 chunks with maximum size 62 >= 62.000 average\n"
     ]
    }
   ],
   "source": [
    "n_cols = n_chunk_max_cols * 16\n",
    "snapshots_matrix_memory = hp.get_matrix_memory_footprint((n_rows, n_cols), dtype=dtype)\n",
    "print(f\"a snapshots matrix of size {n_rows, n_cols} would use {snapshots_matrix_memory / 2**30:.2f} GB of memory\")\n",
    "print(f\"    SVD would use {hp.get_svd_memory_footprint((n_rows, n_cols), dtype=dtype) / 2**30:.2f} GB of memory\")\n",
    "\n",
    "n_chunks = hp.get_n_chunks_fulltree(n_cols, n_chunk_max_cols=n_chunk_max_cols)\n",
    "print(f\"for a balanced, full, merge tree, will need {n_chunks} chunks with maximum size {n_chunk_max_cols} >= {n_cols / n_chunks:.3f} average\")\n"
   ]
  },
  {
   "cell_type": "code",
   "execution_count": 4,
   "metadata": {},
   "outputs": [
    {
     "name": "stdout",
     "output_type": "stream",
     "text": [
      "randomized SVD can use 83 samples\n",
      "which correspond to 14.47 GB of memory\n"
     ]
    }
   ],
   "source": [
    "n_randomized_svd_max_cols = hp.get_max_randomized_svd_samples((n_rows, n_cols),\n",
    "                                  memory_limit=memory_avail_total - memory_forbidden,\n",
    "                                  )\n",
    "print(f\"randomized SVD can use {n_randomized_svd_max_cols} samples\")\n",
    "print(f\"which correspond to {hp.get_randomized_svd_memory_footprint((n_rows, n_cols), n_randomized_svd_max_cols, dtype=dtype) / 2**30:.2f} GB of memory\")\n"
   ]
  },
  {
   "cell_type": "code",
   "execution_count": 5,
   "metadata": {},
   "outputs": [],
   "source": [
    "from tests.test_base import get_test_matrix_full_rank\n",
    "\n",
    "X_fullrank, U_fullrank, s_true = get_test_matrix_full_rank(n_rows= n_cols,\n",
    "                                                            n_cols = n_cols,\n",
    "                                                            dtype = dtype,\n",
    "                                                            return_Us = True)\n"
   ]
  },
  {
   "cell_type": "code",
   "execution_count": 6,
   "metadata": {},
   "outputs": [],
   "source": [
    "work_dir = \"/scratch/lfabris/hapod_test\"\n",
    "os.makedirs(work_dir, exist_ok=True)\n"
   ]
  },
  {
   "cell_type": "code",
   "execution_count": 7,
   "metadata": {},
   "outputs": [
    {
     "name": "stdout",
     "output_type": "stream",
     "text": [
      "simulating a snapshot matrix with size (3600000, 992) under /scratch/lfabris/hapod_test/snapshots\n",
      "create snapshots under /scratch/lfabris/hapod_test/snapshots\n",
      "storing 26.608 GB worth of snapshots\n",
      "created 992 snapshot files in 374.908\n"
     ]
    }
   ],
   "source": [
    "snapshots_dir = os.path.join(work_dir, \"snapshots\")\n",
    "print(f\"simulating a snapshot matrix with size {(n_rows, n_cols)} under {snapshots_dir}\")\n",
    "\n",
    "if not os.path.isdir(snapshots_dir) or refresh_snapshots:\n",
    "    print(f\"create snapshots under {snapshots_dir}\")\n",
    "    shutil.rmtree(snapshots_dir)\n",
    "    os.makedirs(snapshots_dir, exist_ok=True)\n",
    "\n",
    "    print(\n",
    "        f\"storing {snapshots_matrix_memory / 2**30:.3f} GB worth of snapshots\"\n",
    "    )\n",
    "\n",
    "    rng = np.random.default_rng()\n",
    "\n",
    "    elapsed_snapshots = -time.perf_counter()\n",
    "    snapshots_fnames = []\n",
    "    for i in range(n_cols):\n",
    "        x = np.concatenate([X_fullrank[:, i], \n",
    "                                np.zeros(n_rows-n_cols, dtype=dtype)], \n",
    "                            axis=0).reshape(-1, 1)\n",
    "        snapshot_fname = os.path.join(snapshots_dir, f\"snapshot_{i:04d}\")\n",
    "        snapshot_fname = serializer.store(x, snapshot_fname)\n",
    "\n",
    "        snapshots_fnames.append(snapshot_fname)\n",
    "    elapsed_snapshots += time.perf_counter()\n",
    "    print(f\"created {len(snapshots_fnames)} snapshot files in {elapsed_snapshots:.3f}\")\n",
    "else:\n",
    "    snapshots_fnames = list(glob.glob(os.path.join(snapshots_dir, \"*.npy\")))\n",
    "    print(f\"found {len(snapshots_fnames)} snapshot files in {snapshots_dir}\")\n",
    "    "
   ]
  },
  {
   "cell_type": "code",
   "execution_count": 8,
   "metadata": {},
   "outputs": [
    {
     "name": "stdout",
     "output_type": "stream",
     "text": [
      "simulating chunks of maximum size (3600000, 62) under /scratch/lfabris/hapod_test/chunks\n",
      "create chunks under /scratch/lfabris/hapod_test/chunks\n",
      "created 16 column chunks files in 786.016\n"
     ]
    }
   ],
   "source": [
    "chunks_dir = os.path.join(work_dir, \"chunks\")\n",
    "print(f\"simulating chunks of maximum size {n_rows, n_chunk_max_cols} under {chunks_dir}\")\n",
    "\n",
    "if not os.path.isdir(chunks_dir) or refresh_chunks:\n",
    "    print(f\"create chunks under {chunks_dir}\")\n",
    "    shutil.rmtree(chunks_dir)\n",
    "    os.makedirs(chunks_dir, exist_ok=True)\n",
    "\n",
    "    elapsed_chunks = -time.perf_counter()\n",
    "    chunks_fnames = hp.make_chunks(\n",
    "        snapshots_fnames,\n",
    "        chunks_dir,\n",
    "        n_chunks=n_chunks,\n",
    "        serializer=serializer,\n",
    "    )\n",
    "    elapsed_chunks += time.perf_counter()\n",
    "    print(f\"created {len(chunks_fnames)} column chunks files in {elapsed_chunks:.3f}\")\n",
    "else:\n",
    "    chunks_fnames = list(glob.glob(os.path.join(chunks_dir, \"*.npy\")))\n",
    "    print(f\"found {len(chunks_fnames)} column chunks files in {chunks_dir}\")\n"
   ]
  },
  {
   "cell_type": "code",
   "execution_count": 9,
   "metadata": {},
   "outputs": [
    {
     "data": {
      "text/plain": [
       "814"
      ]
     },
     "execution_count": 9,
     "metadata": {},
     "output_type": "execute_result"
    }
   ],
   "source": [
    "gc.collect()"
   ]
  },
  {
   "cell_type": "code",
   "execution_count": 11,
   "metadata": {},
   "outputs": [
    {
     "name": "stdout",
     "output_type": "stream",
     "text": [
      "Xs\n",
      "    /scratch/lfabris/hapod_test/chunks/chunk_0000.npy ((3600000, 62), dtype('float64'))\n",
      "    /scratch/lfabris/hapod_test/chunks/chunk_0001.npy ((3600000, 62), dtype('float64'))\n",
      "    /scratch/lfabris/hapod_test/chunks/chunk_0002.npy ((3600000, 62), dtype('float64'))\n",
      "    /scratch/lfabris/hapod_test/chunks/chunk_0003.npy ((3600000, 62), dtype('float64'))\n",
      "    /scratch/lfabris/hapod_test/chunks/chunk_0004.npy ((3600000, 62), dtype('float64'))\n",
      "    /scratch/lfabris/hapod_test/chunks/chunk_0005.npy ((3600000, 62), dtype('float64'))\n",
      "    /scratch/lfabris/hapod_test/chunks/chunk_0006.npy ((3600000, 62), dtype('float64'))\n",
      "    /scratch/lfabris/hapod_test/chunks/chunk_0007.npy ((3600000, 62), dtype('float64'))\n",
      "    /scratch/lfabris/hapod_test/chunks/chunk_0008.npy ((3600000, 62), dtype('float64'))\n",
      "    /scratch/lfabris/hapod_test/chunks/chunk_0009.npy ((3600000, 62), dtype('float64'))\n",
      "    /scratch/lfabris/hapod_test/chunks/chunk_0010.npy ((3600000, 62), dtype('float64'))\n",
      "    /scratch/lfabris/hapod_test/chunks/chunk_0011.npy ((3600000, 62), dtype('float64'))\n",
      "    /scratch/lfabris/hapod_test/chunks/chunk_0012.npy ((3600000, 62), dtype('float64'))\n",
      "    /scratch/lfabris/hapod_test/chunks/chunk_0013.npy ((3600000, 62), dtype('float64'))\n",
      "    /scratch/lfabris/hapod_test/chunks/chunk_0014.npy ((3600000, 62), dtype('float64'))\n",
      "    /scratch/lfabris/hapod_test/chunks/chunk_0015.npy ((3600000, 62), dtype('float64'))\n",
      "merging \n",
      "    /scratch/lfabris/hapod_test/chunks/chunk_0000.npy ((3600000, 62), dtype('float64'))\n",
      "    /scratch/lfabris/hapod_test/chunks/chunk_0001.npy ((3600000, 62), dtype('float64'))\n",
      "    took 25.645\n",
      "POD\n",
      "    U.shape (3600000, 62)\n",
      "    took 48.722\n",
      "    stored new chunk /scratch/lfabris/hapod_test/tmp/merged_0.npy ((3600000, 62), dtype('float64'))\n",
      "Xs\n",
      "    /scratch/lfabris/hapod_test/chunks/chunk_0002.npy ((3600000, 62), dtype('float64'))\n",
      "    /scratch/lfabris/hapod_test/chunks/chunk_0003.npy ((3600000, 62), dtype('float64'))\n",
      "    /scratch/lfabris/hapod_test/chunks/chunk_0004.npy ((3600000, 62), dtype('float64'))\n",
      "    /scratch/lfabris/hapod_test/chunks/chunk_0005.npy ((3600000, 62), dtype('float64'))\n",
      "    /scratch/lfabris/hapod_test/chunks/chunk_0006.npy ((3600000, 62), dtype('float64'))\n",
      "    /scratch/lfabris/hapod_test/chunks/chunk_0007.npy ((3600000, 62), dtype('float64'))\n",
      "    /scratch/lfabris/hapod_test/chunks/chunk_0008.npy ((3600000, 62), dtype('float64'))\n",
      "    /scratch/lfabris/hapod_test/chunks/chunk_0009.npy ((3600000, 62), dtype('float64'))\n",
      "    /scratch/lfabris/hapod_test/chunks/chunk_0010.npy ((3600000, 62), dtype('float64'))\n",
      "    /scratch/lfabris/hapod_test/chunks/chunk_0011.npy ((3600000, 62), dtype('float64'))\n",
      "    /scratch/lfabris/hapod_test/chunks/chunk_0012.npy ((3600000, 62), dtype('float64'))\n",
      "    /scratch/lfabris/hapod_test/chunks/chunk_0013.npy ((3600000, 62), dtype('float64'))\n",
      "    /scratch/lfabris/hapod_test/chunks/chunk_0014.npy ((3600000, 62), dtype('float64'))\n",
      "    /scratch/lfabris/hapod_test/chunks/chunk_0015.npy ((3600000, 62), dtype('float64'))\n",
      "    /scratch/lfabris/hapod_test/tmp/merged_0.npy ((3600000, 62), dtype('float64'))\n",
      "merging \n",
      "    /scratch/lfabris/hapod_test/chunks/chunk_0002.npy ((3600000, 62), dtype('float64'))\n",
      "    /scratch/lfabris/hapod_test/chunks/chunk_0003.npy ((3600000, 62), dtype('float64'))\n",
      "    took 49.638\n",
      "POD\n",
      "    U.shape (3600000, 62)\n",
      "    took 20.485\n",
      "    stored new chunk /scratch/lfabris/hapod_test/tmp/merged_1.npy ((3600000, 62), dtype('float64'))\n",
      "Xs\n",
      "    /scratch/lfabris/hapod_test/chunks/chunk_0004.npy ((3600000, 62), dtype('float64'))\n",
      "    /scratch/lfabris/hapod_test/chunks/chunk_0005.npy ((3600000, 62), dtype('float64'))\n",
      "    /scratch/lfabris/hapod_test/chunks/chunk_0006.npy ((3600000, 62), dtype('float64'))\n",
      "    /scratch/lfabris/hapod_test/chunks/chunk_0007.npy ((3600000, 62), dtype('float64'))\n",
      "    /scratch/lfabris/hapod_test/chunks/chunk_0008.npy ((3600000, 62), dtype('float64'))\n",
      "    /scratch/lfabris/hapod_test/chunks/chunk_0009.npy ((3600000, 62), dtype('float64'))\n",
      "    /scratch/lfabris/hapod_test/chunks/chunk_0010.npy ((3600000, 62), dtype('float64'))\n",
      "    /scratch/lfabris/hapod_test/chunks/chunk_0011.npy ((3600000, 62), dtype('float64'))\n",
      "    /scratch/lfabris/hapod_test/chunks/chunk_0012.npy ((3600000, 62), dtype('float64'))\n",
      "    /scratch/lfabris/hapod_test/chunks/chunk_0013.npy ((3600000, 62), dtype('float64'))\n",
      "    /scratch/lfabris/hapod_test/chunks/chunk_0014.npy ((3600000, 62), dtype('float64'))\n",
      "    /scratch/lfabris/hapod_test/chunks/chunk_0015.npy ((3600000, 62), dtype('float64'))\n",
      "    /scratch/lfabris/hapod_test/tmp/merged_0.npy ((3600000, 62), dtype('float64'))\n",
      "    /scratch/lfabris/hapod_test/tmp/merged_1.npy ((3600000, 62), dtype('float64'))\n",
      "merging \n",
      "    /scratch/lfabris/hapod_test/chunks/chunk_0004.npy ((3600000, 62), dtype('float64'))\n",
      "    /scratch/lfabris/hapod_test/chunks/chunk_0005.npy ((3600000, 62), dtype('float64'))\n",
      "    took 44.854\n",
      "POD\n",
      "    U.shape (3600000, 62)\n",
      "    took 19.925\n",
      "    stored new chunk /scratch/lfabris/hapod_test/tmp/merged_2.npy ((3600000, 62), dtype('float64'))\n",
      "Xs\n",
      "    /scratch/lfabris/hapod_test/chunks/chunk_0006.npy ((3600000, 62), dtype('float64'))\n",
      "    /scratch/lfabris/hapod_test/chunks/chunk_0007.npy ((3600000, 62), dtype('float64'))\n",
      "    /scratch/lfabris/hapod_test/chunks/chunk_0008.npy ((3600000, 62), dtype('float64'))\n",
      "    /scratch/lfabris/hapod_test/chunks/chunk_0009.npy ((3600000, 62), dtype('float64'))\n",
      "    /scratch/lfabris/hapod_test/chunks/chunk_0010.npy ((3600000, 62), dtype('float64'))\n",
      "    /scratch/lfabris/hapod_test/chunks/chunk_0011.npy ((3600000, 62), dtype('float64'))\n",
      "    /scratch/lfabris/hapod_test/chunks/chunk_0012.npy ((3600000, 62), dtype('float64'))\n",
      "    /scratch/lfabris/hapod_test/chunks/chunk_0013.npy ((3600000, 62), dtype('float64'))\n",
      "    /scratch/lfabris/hapod_test/chunks/chunk_0014.npy ((3600000, 62), dtype('float64'))\n",
      "    /scratch/lfabris/hapod_test/chunks/chunk_0015.npy ((3600000, 62), dtype('float64'))\n",
      "    /scratch/lfabris/hapod_test/tmp/merged_0.npy ((3600000, 62), dtype('float64'))\n",
      "    /scratch/lfabris/hapod_test/tmp/merged_1.npy ((3600000, 62), dtype('float64'))\n",
      "    /scratch/lfabris/hapod_test/tmp/merged_2.npy ((3600000, 62), dtype('float64'))\n",
      "merging \n",
      "    /scratch/lfabris/hapod_test/chunks/chunk_0006.npy ((3600000, 62), dtype('float64'))\n",
      "    /scratch/lfabris/hapod_test/chunks/chunk_0007.npy ((3600000, 62), dtype('float64'))\n",
      "    took 48.903\n",
      "POD\n",
      "    U.shape (3600000, 62)\n",
      "    took 19.909\n",
      "    stored new chunk /scratch/lfabris/hapod_test/tmp/merged_3.npy ((3600000, 62), dtype('float64'))\n",
      "Xs\n",
      "    /scratch/lfabris/hapod_test/chunks/chunk_0008.npy ((3600000, 62), dtype('float64'))\n",
      "    /scratch/lfabris/hapod_test/chunks/chunk_0009.npy ((3600000, 62), dtype('float64'))\n",
      "    /scratch/lfabris/hapod_test/chunks/chunk_0010.npy ((3600000, 62), dtype('float64'))\n",
      "    /scratch/lfabris/hapod_test/chunks/chunk_0011.npy ((3600000, 62), dtype('float64'))\n",
      "    /scratch/lfabris/hapod_test/chunks/chunk_0012.npy ((3600000, 62), dtype('float64'))\n",
      "    /scratch/lfabris/hapod_test/chunks/chunk_0013.npy ((3600000, 62), dtype('float64'))\n",
      "    /scratch/lfabris/hapod_test/chunks/chunk_0014.npy ((3600000, 62), dtype('float64'))\n",
      "    /scratch/lfabris/hapod_test/chunks/chunk_0015.npy ((3600000, 62), dtype('float64'))\n",
      "    /scratch/lfabris/hapod_test/tmp/merged_0.npy ((3600000, 62), dtype('float64'))\n",
      "    /scratch/lfabris/hapod_test/tmp/merged_1.npy ((3600000, 62), dtype('float64'))\n",
      "    /scratch/lfabris/hapod_test/tmp/merged_2.npy ((3600000, 62), dtype('float64'))\n",
      "    /scratch/lfabris/hapod_test/tmp/merged_3.npy ((3600000, 62), dtype('float64'))\n",
      "merging \n",
      "    /scratch/lfabris/hapod_test/chunks/chunk_0008.npy ((3600000, 62), dtype('float64'))\n",
      "    /scratch/lfabris/hapod_test/chunks/chunk_0009.npy ((3600000, 62), dtype('float64'))\n",
      "    took 43.077\n",
      "POD\n",
      "    U.shape (3600000, 62)\n",
      "    took 19.898\n",
      "    stored new chunk /scratch/lfabris/hapod_test/tmp/merged_4.npy ((3600000, 62), dtype('float64'))\n",
      "Xs\n",
      "    /scratch/lfabris/hapod_test/chunks/chunk_0010.npy ((3600000, 62), dtype('float64'))\n",
      "    /scratch/lfabris/hapod_test/chunks/chunk_0011.npy ((3600000, 62), dtype('float64'))\n",
      "    /scratch/lfabris/hapod_test/chunks/chunk_0012.npy ((3600000, 62), dtype('float64'))\n",
      "    /scratch/lfabris/hapod_test/chunks/chunk_0013.npy ((3600000, 62), dtype('float64'))\n",
      "    /scratch/lfabris/hapod_test/chunks/chunk_0014.npy ((3600000, 62), dtype('float64'))\n",
      "    /scratch/lfabris/hapod_test/chunks/chunk_0015.npy ((3600000, 62), dtype('float64'))\n",
      "    /scratch/lfabris/hapod_test/tmp/merged_0.npy ((3600000, 62), dtype('float64'))\n",
      "    /scratch/lfabris/hapod_test/tmp/merged_1.npy ((3600000, 62), dtype('float64'))\n",
      "    /scratch/lfabris/hapod_test/tmp/merged_2.npy ((3600000, 62), dtype('float64'))\n",
      "    /scratch/lfabris/hapod_test/tmp/merged_3.npy ((3600000, 62), dtype('float64'))\n",
      "    /scratch/lfabris/hapod_test/tmp/merged_4.npy ((3600000, 62), dtype('float64'))\n",
      "merging \n",
      "    /scratch/lfabris/hapod_test/chunks/chunk_0010.npy ((3600000, 62), dtype('float64'))\n",
      "    /scratch/lfabris/hapod_test/chunks/chunk_0011.npy ((3600000, 62), dtype('float64'))\n",
      "    took 49.595\n",
      "POD\n",
      "    U.shape (3600000, 62)\n",
      "    took 20.099\n",
      "    stored new chunk /scratch/lfabris/hapod_test/tmp/merged_5.npy ((3600000, 62), dtype('float64'))\n",
      "Xs\n",
      "    /scratch/lfabris/hapod_test/chunks/chunk_0012.npy ((3600000, 62), dtype('float64'))\n",
      "    /scratch/lfabris/hapod_test/chunks/chunk_0013.npy ((3600000, 62), dtype('float64'))\n",
      "    /scratch/lfabris/hapod_test/chunks/chunk_0014.npy ((3600000, 62), dtype('float64'))\n",
      "    /scratch/lfabris/hapod_test/chunks/chunk_0015.npy ((3600000, 62), dtype('float64'))\n",
      "    /scratch/lfabris/hapod_test/tmp/merged_0.npy ((3600000, 62), dtype('float64'))\n",
      "    /scratch/lfabris/hapod_test/tmp/merged_1.npy ((3600000, 62), dtype('float64'))\n",
      "    /scratch/lfabris/hapod_test/tmp/merged_2.npy ((3600000, 62), dtype('float64'))\n",
      "    /scratch/lfabris/hapod_test/tmp/merged_3.npy ((3600000, 62), dtype('float64'))\n",
      "    /scratch/lfabris/hapod_test/tmp/merged_4.npy ((3600000, 62), dtype('float64'))\n",
      "    /scratch/lfabris/hapod_test/tmp/merged_5.npy ((3600000, 62), dtype('float64'))\n",
      "merging \n",
      "    /scratch/lfabris/hapod_test/chunks/chunk_0012.npy ((3600000, 62), dtype('float64'))\n",
      "    /scratch/lfabris/hapod_test/chunks/chunk_0013.npy ((3600000, 62), dtype('float64'))\n",
      "    took 50.009\n",
      "POD\n",
      "    U.shape (3600000, 62)\n",
      "    took 19.900\n",
      "    stored new chunk /scratch/lfabris/hapod_test/tmp/merged_6.npy ((3600000, 62), dtype('float64'))\n",
      "Xs\n",
      "    /scratch/lfabris/hapod_test/chunks/chunk_0014.npy ((3600000, 62), dtype('float64'))\n",
      "    /scratch/lfabris/hapod_test/chunks/chunk_0015.npy ((3600000, 62), dtype('float64'))\n",
      "    /scratch/lfabris/hapod_test/tmp/merged_0.npy ((3600000, 62), dtype('float64'))\n",
      "    /scratch/lfabris/hapod_test/tmp/merged_1.npy ((3600000, 62), dtype('float64'))\n",
      "    /scratch/lfabris/hapod_test/tmp/merged_2.npy ((3600000, 62), dtype('float64'))\n",
      "    /scratch/lfabris/hapod_test/tmp/merged_3.npy ((3600000, 62), dtype('float64'))\n",
      "    /scratch/lfabris/hapod_test/tmp/merged_4.npy ((3600000, 62), dtype('float64'))\n",
      "    /scratch/lfabris/hapod_test/tmp/merged_5.npy ((3600000, 62), dtype('float64'))\n",
      "    /scratch/lfabris/hapod_test/tmp/merged_6.npy ((3600000, 62), dtype('float64'))\n",
      "merging \n",
      "    /scratch/lfabris/hapod_test/chunks/chunk_0014.npy ((3600000, 62), dtype('float64'))\n",
      "    /scratch/lfabris/hapod_test/chunks/chunk_0015.npy ((3600000, 62), dtype('float64'))\n",
      "    took 50.317\n",
      "POD\n",
      "    U.shape (3600000, 62)\n",
      "    took 20.151\n",
      "    stored new chunk /scratch/lfabris/hapod_test/tmp/merged_7.npy ((3600000, 62), dtype('float64'))\n",
      "Xs\n",
      "    /scratch/lfabris/hapod_test/tmp/merged_0.npy ((3600000, 62), dtype('float64'))\n",
      "    /scratch/lfabris/hapod_test/tmp/merged_1.npy ((3600000, 62), dtype('float64'))\n",
      "    /scratch/lfabris/hapod_test/tmp/merged_2.npy ((3600000, 62), dtype('float64'))\n",
      "    /scratch/lfabris/hapod_test/tmp/merged_3.npy ((3600000, 62), dtype('float64'))\n",
      "    /scratch/lfabris/hapod_test/tmp/merged_4.npy ((3600000, 62), dtype('float64'))\n",
      "    /scratch/lfabris/hapod_test/tmp/merged_5.npy ((3600000, 62), dtype('float64'))\n",
      "    /scratch/lfabris/hapod_test/tmp/merged_6.npy ((3600000, 62), dtype('float64'))\n",
      "    /scratch/lfabris/hapod_test/tmp/merged_7.npy ((3600000, 62), dtype('float64'))\n",
      "merging \n",
      "    /scratch/lfabris/hapod_test/tmp/merged_0.npy ((3600000, 62), dtype('float64'))\n",
      "    /scratch/lfabris/hapod_test/tmp/merged_1.npy ((3600000, 62), dtype('float64'))\n",
      "    took 49.686\n",
      "POD\n",
      "    U.shape (3600000, 62)\n",
      "    took 20.014\n",
      "    stored new chunk /scratch/lfabris/hapod_test/tmp/merged_8.npy ((3600000, 62), dtype('float64'))\n",
      "Xs\n",
      "    /scratch/lfabris/hapod_test/tmp/merged_2.npy ((3600000, 62), dtype('float64'))\n",
      "    /scratch/lfabris/hapod_test/tmp/merged_3.npy ((3600000, 62), dtype('float64'))\n",
      "    /scratch/lfabris/hapod_test/tmp/merged_4.npy ((3600000, 62), dtype('float64'))\n",
      "    /scratch/lfabris/hapod_test/tmp/merged_5.npy ((3600000, 62), dtype('float64'))\n",
      "    /scratch/lfabris/hapod_test/tmp/merged_6.npy ((3600000, 62), dtype('float64'))\n",
      "    /scratch/lfabris/hapod_test/tmp/merged_7.npy ((3600000, 62), dtype('float64'))\n",
      "    /scratch/lfabris/hapod_test/tmp/merged_8.npy ((3600000, 62), dtype('float64'))\n",
      "merging \n",
      "    /scratch/lfabris/hapod_test/tmp/merged_2.npy ((3600000, 62), dtype('float64'))\n",
      "    /scratch/lfabris/hapod_test/tmp/merged_3.npy ((3600000, 62), dtype('float64'))\n",
      "    took 48.174\n",
      "POD\n",
      "    U.shape (3600000, 62)\n",
      "    took 19.837\n",
      "    stored new chunk /scratch/lfabris/hapod_test/tmp/merged_9.npy ((3600000, 62), dtype('float64'))\n",
      "Xs\n",
      "    /scratch/lfabris/hapod_test/tmp/merged_4.npy ((3600000, 62), dtype('float64'))\n",
      "    /scratch/lfabris/hapod_test/tmp/merged_5.npy ((3600000, 62), dtype('float64'))\n",
      "    /scratch/lfabris/hapod_test/tmp/merged_6.npy ((3600000, 62), dtype('float64'))\n",
      "    /scratch/lfabris/hapod_test/tmp/merged_7.npy ((3600000, 62), dtype('float64'))\n",
      "    /scratch/lfabris/hapod_test/tmp/merged_8.npy ((3600000, 62), dtype('float64'))\n",
      "    /scratch/lfabris/hapod_test/tmp/merged_9.npy ((3600000, 62), dtype('float64'))\n",
      "merging \n",
      "    /scratch/lfabris/hapod_test/tmp/merged_4.npy ((3600000, 62), dtype('float64'))\n",
      "    /scratch/lfabris/hapod_test/tmp/merged_5.npy ((3600000, 62), dtype('float64'))\n",
      "    took 45.970\n",
      "POD\n",
      "    U.shape (3600000, 62)\n",
      "    took 21.011\n",
      "    stored new chunk /scratch/lfabris/hapod_test/tmp/merged_10.npy ((3600000, 62), dtype('float64'))\n",
      "Xs\n",
      "    /scratch/lfabris/hapod_test/tmp/merged_6.npy ((3600000, 62), dtype('float64'))\n",
      "    /scratch/lfabris/hapod_test/tmp/merged_7.npy ((3600000, 62), dtype('float64'))\n",
      "    /scratch/lfabris/hapod_test/tmp/merged_8.npy ((3600000, 62), dtype('float64'))\n",
      "    /scratch/lfabris/hapod_test/tmp/merged_9.npy ((3600000, 62), dtype('float64'))\n",
      "    /scratch/lfabris/hapod_test/tmp/merged_10.npy ((3600000, 62), dtype('float64'))\n",
      "merging \n",
      "    /scratch/lfabris/hapod_test/tmp/merged_6.npy ((3600000, 62), dtype('float64'))\n",
      "    /scratch/lfabris/hapod_test/tmp/merged_7.npy ((3600000, 62), dtype('float64'))\n",
      "    took 49.695\n",
      "POD\n",
      "    U.shape (3600000, 62)\n",
      "    took 19.778\n",
      "    stored new chunk /scratch/lfabris/hapod_test/tmp/merged_11.npy ((3600000, 62), dtype('float64'))\n",
      "Xs\n",
      "    /scratch/lfabris/hapod_test/tmp/merged_8.npy ((3600000, 62), dtype('float64'))\n",
      "    /scratch/lfabris/hapod_test/tmp/merged_9.npy ((3600000, 62), dtype('float64'))\n",
      "    /scratch/lfabris/hapod_test/tmp/merged_10.npy ((3600000, 62), dtype('float64'))\n",
      "    /scratch/lfabris/hapod_test/tmp/merged_11.npy ((3600000, 62), dtype('float64'))\n",
      "merging \n",
      "    /scratch/lfabris/hapod_test/tmp/merged_8.npy ((3600000, 62), dtype('float64'))\n",
      "    /scratch/lfabris/hapod_test/tmp/merged_9.npy ((3600000, 62), dtype('float64'))\n",
      "    took 46.589\n",
      "POD\n",
      "    U.shape (3600000, 62)\n",
      "    took 19.813\n",
      "    stored new chunk /scratch/lfabris/hapod_test/tmp/merged_12.npy ((3600000, 62), dtype('float64'))\n",
      "Xs\n",
      "    /scratch/lfabris/hapod_test/tmp/merged_10.npy ((3600000, 62), dtype('float64'))\n",
      "    /scratch/lfabris/hapod_test/tmp/merged_11.npy ((3600000, 62), dtype('float64'))\n",
      "    /scratch/lfabris/hapod_test/tmp/merged_12.npy ((3600000, 62), dtype('float64'))\n",
      "merging \n",
      "    /scratch/lfabris/hapod_test/tmp/merged_10.npy ((3600000, 62), dtype('float64'))\n",
      "    /scratch/lfabris/hapod_test/tmp/merged_11.npy ((3600000, 62), dtype('float64'))\n",
      "    took 44.589\n",
      "POD\n",
      "    U.shape (3600000, 62)\n",
      "    took 20.136\n",
      "    stored new chunk /scratch/lfabris/hapod_test/tmp/merged_13.npy ((3600000, 62), dtype('float64'))\n",
      "Xs\n",
      "    /scratch/lfabris/hapod_test/tmp/merged_12.npy ((3600000, 62), dtype('float64'))\n",
      "    /scratch/lfabris/hapod_test/tmp/merged_13.npy ((3600000, 62), dtype('float64'))\n",
      "merging \n",
      "    /scratch/lfabris/hapod_test/tmp/merged_12.npy ((3600000, 62), dtype('float64'))\n",
      "    /scratch/lfabris/hapod_test/tmp/merged_13.npy ((3600000, 62), dtype('float64'))\n",
      "    took 39.512\n",
      "POD\n",
      "    U.shape (3600000, 124)\n",
      "    took 20.553\n",
      "finished hapod in 1075.771\n",
      "    U.shape (3600000, 124)\n",
      "    s_hapod.shape (124,)\n"
     ]
    }
   ],
   "source": [
    "if refresh_hapod:\n",
    "    hapod_tmp_dir = os.path.join(work_dir, \"tmp\")\n",
    "\n",
    "    elapsed_hapod = -time.perf_counter()\n",
    "    U_hapod, s_hapod = hp.hapod(chunks_fnames,\n",
    "                    chunk_rank_max=n_chunk_max_cols,\n",
    "                    temp_work_dir=hapod_tmp_dir,\n",
    "                    serializer=serializer,\n",
    "                    verbose=True)\n",
    "    elapsed_hapod += time.perf_counter()\n",
    "\n",
    "    print(f\"finished hapod in {elapsed_hapod:.3f}\")\n",
    "    print(f\"    U.shape {U_hapod.shape}\")\n",
    "    print(f\"    s_hapod.shape {s_hapod.shape}\")\n",
    "\n",
    "    np.save(os.path.join(work_dir, \"U_hapod.npy\"), U_hapod)\n",
    "    np.save(os.path.join(work_dir, \"s_hapod.npy\"), s_hapod)\n",
    "\n",
    "    U_hapod = None\n",
    "    del U_hapod\n",
    "else:\n",
    "    s_hapod = np.load(os.path.join(work_dir, \"s_hapod.npy\"))\n"
   ]
  },
  {
   "cell_type": "code",
   "execution_count": 12,
   "metadata": {},
   "outputs": [
    {
     "data": {
      "text/plain": [
       "2018"
      ]
     },
     "execution_count": 12,
     "metadata": {},
     "output_type": "execute_result"
    }
   ],
   "source": [
    "gc.collect()"
   ]
  },
  {
   "cell_type": "code",
   "execution_count": 14,
   "metadata": {},
   "outputs": [],
   "source": [
    "# n_randomized_svd_max_cols = 85"
   ]
  },
  {
   "cell_type": "code",
   "execution_count": 22,
   "metadata": {},
   "outputs": [
    {
     "name": "stdout",
     "output_type": "stream",
     "text": [
      "finished rand in 925.797\n",
      "    U_rand.shape (3600000, 83)\n",
      "    s_rand.shape (83,)\n"
     ]
    }
   ],
   "source": [
    "if refresh_rand:\n",
    "    elapsed_rand = -time.perf_counter()\n",
    "    U_rand, s_rand = hp.randomized_pod(snapshots_fnames,\n",
    "                                       n_sources_samples=n_randomized_svd_max_cols,\n",
    "                                       serializer=serializer,)\n",
    "    elapsed_rand += time.perf_counter()\n",
    "\n",
    "    print(f\"finished rand in {elapsed_rand:.3f}\")\n",
    "    print(f\"    U_rand.shape {U_rand.shape}\")\n",
    "    print(f\"    s_rand.shape {s_rand.shape}\")\n",
    "\n",
    "    np.save(os.path.join(work_dir, \"U_rand.npy\"), U_rand)\n",
    "    np.save(os.path.join(work_dir, \"s_rand.npy\"), s_rand)\n",
    "\n",
    "    U_rand = None\n",
    "    del U_rand\n",
    "else:\n",
    "    s_rand = np.load(os.path.join(work_dir, \"s_rand.npy\"))\n"
   ]
  },
  {
   "cell_type": "code",
   "execution_count": 23,
   "metadata": {},
   "outputs": [],
   "source": [
    "fname = os.path.join(work_dir, \"U_hapod.npy\")\n",
    "(_, n_cols_hapod), _ = serializer.peek(fname)\n",
    "ortho_hapod = hp.singular_vectors_orthogonality(np.load(fname)[:n_cols], \n",
    "                                                U_fullrank[:, :n_cols_hapod])\n",
    "\n",
    "fname = os.path.join(work_dir, \"U_rand.npy\")\n",
    "(_, n_cols_rand), _ = serializer.peek(fname)\n",
    "ortho_rand = hp.singular_vectors_orthogonality(np.load(fname)[:n_cols], \n",
    "                                                U_fullrank[:, :n_cols_rand])\n"
   ]
  },
  {
   "cell_type": "code",
   "execution_count": 25,
   "metadata": {},
   "outputs": [
    {
     "data": {
      "image/png": "[encoded data removed]",
      "text/plain": [
       "<Figure size 640x480 with 1 Axes>"
      ]
     },
     "metadata": {},
     "output_type": "display_data"
    },
    {
     "data": {
      "image/png": "[encoded data removed]",
      "text/plain": [
       "<Figure size 640x480 with 1 Axes>"
      ]
     },
     "metadata": {},
     "output_type": "display_data"
    }
   ],
   "source": [
    "n_ranks = 5 + max(n_randomized_svd_max_cols, n_chunk_max_cols)\n",
    "\n",
    "plt.semilogy(s_true[:n_ranks], label=\"true\")\n",
    "plt.semilogy(s_hapod[:n_ranks], label=\"hapod\")\n",
    "plt.semilogy(s_rand[:n_ranks], label=\"rand\")\n",
    "\n",
    "plt.legend()\n",
    "\n",
    "plt.show()\n",
    "plt.close()\n",
    "\n",
    "plt.plot(ortho_hapod, label=\"hapod\")\n",
    "plt.plot(ortho_rand, label=\"rand\")\n",
    "\n",
    "plt.legend()\n",
    "\n",
    "plt.show()\n",
    "plt.close()\n"
   ]
  },
  {
   "cell_type": "code",
   "execution_count": null,
   "metadata": {},
   "outputs": [],
   "source": []
  }
 ],
 "metadata": {
  "kernelspec": {
   "display_name": "torch",
   "language": "python",
   "name": "python3"
  },
  "language_info": {
   "codemirror_mode": {
    "name": "ipython",
    "version": 3
   },
   "file_extension": ".py",
   "mimetype": "text/x-python",
   "name": "python",
   "nbconvert_exporter": "python",
   "pygments_lexer": "ipython3",
   "version": "3.10.14"
  }
 },
 "nbformat": 4,
 "nbformat_minor": 2
}
