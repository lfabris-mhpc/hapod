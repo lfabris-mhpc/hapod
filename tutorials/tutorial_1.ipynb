{
 "cells": [
  {
   "cell_type": "code",
   "execution_count": 12,
   "metadata": {},
   "outputs": [],
   "source": [
    "import os\n",
    "import time\n",
    "import platform\n",
    "import subprocess\n",
    "\n",
    "os.environ[\"OMP_NUM_THREADS\"] = \"8\"\n",
    "import numpy as np\n",
    "\n",
    "import hapod as hp\n",
    "    "
   ]
  },
  {
   "cell_type": "code",
   "execution_count": 13,
   "metadata": {},
   "outputs": [],
   "source": [
    "\n",
    "n_rows = 3600000\n",
    "n_cols = 130\n"
   ]
  },
  {
   "cell_type": "code",
   "execution_count": null,
   "metadata": {},
   "outputs": [],
   "source": [
    "\n",
    "ram_avail = hp.ram_size() / 2**30 * .8\n",
    "print(f\"available ram {ram_avail:.2f}\")\n",
    "\n",
    "ram_matrix = hp.matrix_memory_footprint((n_rows, n_cols)) / 2**30\n",
    "print(f\"matrix ram {ram_matrix:.2f}\")\n",
    "\n",
    "ram_svd = hp.svd_memory_footprint((n_rows, n_cols)) / 2**30\n",
    "print(f\"svd ram {ram_svd:.2f}\")\n"
   ]
  },
  {
   "cell_type": "code",
   "execution_count": null,
   "metadata": {},
   "outputs": [],
   "source": [
    "\n",
    "assert ram_svd < ram_avail\n",
    "\n",
    "np.random.seed(42)\n",
    "\n",
    "elapsed_matrix = -time.perf_counter()\n",
    "X = hp.random_matrix(n_rows, n_cols, n_cols)\n",
    "elapsed_matrix += time.perf_counter()\n",
    "print(f\"matrix creation took {elapsed_matrix:.3f}\")\n",
    "\n",
    "elapsed_svd = -time.perf_counter()\n",
    "U, s, VT = np.linalg.svd(X, full_matrices=False)\n",
    "elapsed_svd += time.perf_counter()\n",
    "print(f\"svd computation took {elapsed_svd:.3f}\")\n"
   ]
  }
 ],
 "metadata": {
  "kernelspec": {
   "display_name": "torch",
   "language": "python",
   "name": "python3"
  },
  "language_info": {
   "codemirror_mode": {
    "name": "ipython",
    "version": 3
   },
   "file_extension": ".py",
   "mimetype": "text/x-python",
   "name": "python",
   "nbconvert_exporter": "python",
   "pygments_lexer": "ipython3",
   "version": "3.10.14"
  }
 },
 "nbformat": 4,
 "nbformat_minor": 2
}
