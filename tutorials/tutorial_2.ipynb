{
 "cells": [
  {
   "cell_type": "code",
   "execution_count": 5,
   "metadata": {},
   "outputs": [],
   "source": [
    "import os\n",
    "import shutil\n",
    "import tempfile\n",
    "\n",
    "os.environ[\"OMP_NUM_THREADS\"] = \"8\"\n",
    "import numpy as np\n",
    "\n",
    "import hapod as hp"
   ]
  },
  {
   "cell_type": "code",
   "execution_count": null,
   "metadata": {},
   "outputs": [],
   "source": [
    "work_dir = \"temp\"\n",
    "os.makedirs(work_dir, exist_ok=True)\n",
    "\n",
    "n_rows = 1000\n",
    "n_cols = 1000\n",
    "n_chunks = 7\n",
    "\n",
    "X = hp.random_matrix(n_rows, n_cols, n_cols)\n",
    "\n",
    "chunks_fnames = []\n",
    "for i, x in enumerate(np.array_split(X, n_chunks, axis=1)):\n",
    "    cols_fname = os.path.join(work_dir, f\"data_{i:4d}.npy\")\n",
    "    np.save(cols_fname, x)\n",
    "\n",
    "    chunks_fnames.append(cols_fname)\n",
    "\n",
    "print(chunks_fnames)\n",
    "\n",
    "\n",
    "\n",
    "shutil.rmtree(\"temp\")\n"
   ]
  }
 ],
 "metadata": {
  "kernelspec": {
   "display_name": "fridge",
   "language": "python",
   "name": "python3"
  },
  "language_info": {
   "codemirror_mode": {
    "name": "ipython",
    "version": 3
   },
   "file_extension": ".py",
   "mimetype": "text/x-python",
   "name": "python",
   "nbconvert_exporter": "python",
   "pygments_lexer": "ipython3",
   "version": "3.12.7"
  }
 },
 "nbformat": 4,
 "nbformat_minor": 2
}
